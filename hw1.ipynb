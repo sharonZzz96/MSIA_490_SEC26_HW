{
 "cells": [
  {
   "cell_type": "code",
   "execution_count": 75,
   "metadata": {
    "collapsed": true
   },
   "outputs": [],
   "source": [
    "import numpy as np\n",
    "import matplotlib.pyplot as plt\n",
    "from operator import add"
   ]
  },
  {
   "cell_type": "markdown",
   "metadata": {},
   "source": [
    "## Q1"
   ]
  },
  {
   "cell_type": "code",
   "execution_count": 76,
   "metadata": {
    "collapsed": true
   },
   "outputs": [],
   "source": [
    "# create transition matrix for action: not dispatch\n",
    "tran_matrix_0 = np.zeros(shape=(201,201))\n",
    "for row in range(0,201):\n",
    "    for i in range(row+1,row+6):\n",
    "        if i < 201:\n",
    "            tran_matrix_0[row][i] = 0.2\n",
    "            \n",
    "tran_matrix_0[196, 200] = 0.4\n",
    "tran_matrix_0[197, 200] = 0.6\n",
    "tran_matrix_0[198, 200] = 0.8\n",
    "tran_matrix_0[199, 200] = 1\n",
    "tran_matrix_0[200, 200] = 1"
   ]
  },
  {
   "cell_type": "code",
   "execution_count": 77,
   "metadata": {
    "collapsed": true
   },
   "outputs": [],
   "source": [
    "# create transition matrix for action: dispatch\n",
    "tran_matrix_1 = np.zeros(shape=(201,201))\n",
    "for row in range(0,201):\n",
    "    for i in range(row-14,row-9):\n",
    "        if (i < 201) and (i >=0):\n",
    "            tran_matrix_1[row][i] = 0.2\n",
    "            \n",
    "        if i < 0:\n",
    "            tran_matrix_1[row][0] = 1\n",
    "            \n",
    "tran_matrix_1[13,0] = 0.4\n",
    "tran_matrix_1[12,0] = 0.6\n",
    "tran_matrix_1[11,0] = 0.8\n",
    "tran_matrix_1[10,0] = 1"
   ]
  },
  {
   "cell_type": "code",
   "execution_count": 78,
   "metadata": {
    "collapsed": true
   },
   "outputs": [],
   "source": [
    "# create {current_state1: {action:[[prob, next_state1, reward],[prob, next_state2, reward]], action2:[]}, current_state2...}\n",
    "env_P = {}\n",
    "for i in range(0,201):\n",
    "    env_P[i] = {}\n",
    "    env_P[i][0] = []\n",
    "    for j in range(0,201):\n",
    "        prob = tran_matrix_0[i, j]\n",
    "        if prob > 0:\n",
    "            env_P[i][0].append([prob, j, i*(-2)])\n",
    "        else:\n",
    "            env_P[i][0].append([0, j, i*(-2)])\n",
    "\n",
    "for i in range(0,201):\n",
    "    env_P[i][1] = []\n",
    "    for j in range(0,201):\n",
    "        prob = tran_matrix_1[i, j]\n",
    "        if prob > 0:\n",
    "            env_P[i][1].append([prob, j, -100 + max(i-15, 0) * (-2)])\n",
    "        else:\n",
    "            env_P[i][1].append([0, j, -100 + max(i-15, 0) * (-2)])"
   ]
  },
  {
   "cell_type": "markdown",
   "metadata": {},
   "source": [
    "## Enumeration"
   ]
  },
  {
   "cell_type": "code",
   "execution_count": 86,
   "metadata": {
    "collapsed": true
   },
   "outputs": [],
   "source": [
    "def one_step_lookahead(state, V, env_P, discount_factor=0.95):\n",
    "    A = np.zeros(2)\n",
    "    for action in range(0,2):\n",
    "        for prob, next_state, reward in env_P[state][action]:\n",
    "            # Calculate the expected value for each action given a state\n",
    "            A[action] += prob * (reward + discount_factor * V[next_state])\n",
    "    return A"
   ]
  },
  {
   "cell_type": "code",
   "execution_count": 91,
   "metadata": {
    "collapsed": true
   },
   "outputs": [],
   "source": [
    "def enumeration(env_P, num_state, T=500, discount_factor=0.95):\n",
    "    V = np.zeros((num_state, T+1))\n",
    "    policy = np.zeros([num_state, 2, T])\n",
    "    \n",
    "    for t in range(T-1, -1, -1):\n",
    "        for state in range(num_state):\n",
    "            A = one_step_lookahead(state, V[:, t+1], env_P)\n",
    "            best_action_value = np.max(A)\n",
    "            # Update the value function\n",
    "            V[state,t] = best_action_value\n",
    "            best_action = np.argmax(A)\n",
    "            policy[state, best_action, t] = 1.0\n",
    "            \n",
    "    return policy, V[:, 0:T]"
   ]
  },
  {
   "cell_type": "code",
   "execution_count": 92,
   "metadata": {
    "collapsed": true
   },
   "outputs": [],
   "source": [
    "policy_enu, V_enu = enumeration(env_P, 201)"
   ]
  },
  {
   "cell_type": "code",
   "execution_count": 93,
   "metadata": {},
   "outputs": [
    {
     "data": {
      "image/png": "[encoded data removed]",
      "text/plain": [
       "<Figure size 432x288 with 1 Axes>"
      ]
     },
     "metadata": {},
     "output_type": "display_data"
    }
   ],
   "source": [
    "num_cust = list(range(0,201))\n",
    "plt.plot(num_cust, V_enu[:, 0])\n",
    "plt.xlabel('num of customers')\n",
    "plt.ylabel('optimal value at t=0')\n",
    "plt.title('Enumeration')\n",
    "plt.show()"
   ]
  },
  {
   "cell_type": "markdown",
   "metadata": {},
   "source": [
    "## Value Iteration"
   ]
  },
  {
   "cell_type": "code",
   "execution_count": 54,
   "metadata": {
    "collapsed": true
   },
   "outputs": [],
   "source": [
    "def value_iterate(env_P, num_state, threshold=0.0001, discount_factor=0.95):\n",
    "    # Initialize value for each state\n",
    "    V = np.zeros(201)\n",
    "    \n",
    "    while True:\n",
    "        delta = 0\n",
    "        # Update max reward for each state\n",
    "        for state in range(num_state):\n",
    "            # Bellman’s Optimality Equation\n",
    "            A = np.zeros(2)\n",
    "            for action in range(2):\n",
    "                for prob, next_state, reward in env_P[state][action]:\n",
    "                    # Calculate expected value\n",
    "                    A[action] += prob * (reward + discount_factor * V[next_state])\n",
    "            \n",
    "            best_action_value = np.max(A)\n",
    "            # Calculate reward difference across all states seen so far\n",
    "            delta = max(delta, np.abs(best_action_value - V[state]))\n",
    "            # Update the value function\n",
    "            V[state] = best_action_value     \n",
    "        # Check if we can stop \n",
    "        if delta < threshold:\n",
    "            break\n",
    "    \n",
    "    # Create a policy using the optimal value function for only once\n",
    "    policy = np.zeros([num_state, 2])\n",
    "    for state in range(num_state):\n",
    "        # Bellman’s Optimality Equation\n",
    "        A = np.zeros(2)\n",
    "        for action in range(2):\n",
    "            for prob, next_state, reward in env_P[state][action]:\n",
    "                A[action] += prob * (reward + discount_factor * V[next_state])\n",
    "        best_action = np.argmax(A)\n",
    "        # Take the best action\n",
    "        policy[state, best_action] = 1.0\n",
    "    \n",
    "    return policy, V"
   ]
  },
  {
   "cell_type": "code",
   "execution_count": null,
   "metadata": {
    "collapsed": true
   },
   "outputs": [],
   "source": [
    "policy_val, V_val = value_iterate(env_P, 201)"
   ]
  },
  {
   "cell_type": "code",
   "execution_count": 56,
   "metadata": {},
   "outputs": [
    {
     "data": {
      "image/png": "[encoded data removed]",
      "text/plain": [
       "<Figure size 432x288 with 1 Axes>"
      ]
     },
     "metadata": {},
     "output_type": "display_data"
    }
   ],
   "source": [
    "num_cust = list(range(0,201))\n",
    "plt.plot(num_cust, V_val)\n",
    "plt.xlabel('num of customers')\n",
    "plt.ylabel('optimal value')\n",
    "plt.title('Value Iteration')\n",
    "plt.show()"
   ]
  },
  {
   "cell_type": "markdown",
   "metadata": {},
   "source": [
    "## Policy Iteration"
   ]
  },
  {
   "cell_type": "code",
   "execution_count": 50,
   "metadata": {
    "collapsed": true
   },
   "outputs": [],
   "source": [
    "def policy_eval(policy, env_P, num_state, discount_factor=0.95, threshold=0.0001):\n",
    "    # Initialize value function \n",
    "    V = np.zeros(num_state)\n",
    "    \n",
    "    while True:\n",
    "        delta = 0\n",
    "        for state in range(0, num_state):\n",
    "            v = 0\n",
    "            # The possible next actions: dispatch & not dispatch\n",
    "            for action, action_prob in enumerate(policy[state]): \n",
    "                # For each action, look at the possible next states, \n",
    "                for prob, next_state, reward in env_P[state][action]: \n",
    "                    # Calculate the expected value function using Bellman’s Optimality Equation\n",
    "                    v += action_prob * prob * (reward + discount_factor * V[next_state]) \n",
    "            \n",
    "            # Change in value function \n",
    "            delta = max(delta, np.abs(v - V[state]))\n",
    "            V[state] = v\n",
    "            \n",
    "        # Stop evaluating if convergency\n",
    "        if delta < threshold:\n",
    "            break\n",
    "            \n",
    "    return np.array(V)"
   ]
  },
  {
   "cell_type": "code",
   "execution_count": 51,
   "metadata": {
    "collapsed": true
   },
   "outputs": [],
   "source": [
    "def policy_improve(env_P, num_state, discount_factor=0.95):\n",
    "    # Initiallize a policy arbitarily\n",
    "    policy = np.ones([num_state, 2]) / 2\n",
    "    \n",
    "    while True:\n",
    "        # Compute the Value Function for the current policy\n",
    "        V = policy_eval(policy, env_P, num_state)\n",
    "        \n",
    "        policy_stable = True\n",
    "        \n",
    "        # Improve the policy at each state\n",
    "        for state in range(0, num_state):\n",
    "            # The best action we would select given the currect policy\n",
    "            chosen_action = np.argmax(policy[state])\n",
    "            # Bellman’s Optimality Equation\n",
    "            action_val = np.zeros(2)\n",
    "            for action in range(2):\n",
    "                for prob, next_state, reward in env_P[state][action]:\n",
    "                    action_val[action] += prob * (reward + discount_factor * V[next_state])\n",
    "            best_action = np.argmax(action_val)\n",
    "            \n",
    "            # Update the policy if not convergency\n",
    "            if chosen_action != best_action:\n",
    "                policy_stable = False\n",
    "            policy[state] = np.eye(2)[best_action]\n",
    "        \n",
    "        # Until convergency\n",
    "        if policy_stable:\n",
    "            return policy, V"
   ]
  },
  {
   "cell_type": "code",
   "execution_count": null,
   "metadata": {
    "collapsed": true
   },
   "outputs": [],
   "source": [
    "policy_pol, V_pol = policy_improve(env_P, 201)"
   ]
  },
  {
   "cell_type": "code",
   "execution_count": 53,
   "metadata": {},
   "outputs": [
    {
     "data": {
      "image/png": "[encoded data removed]",
      "text/plain": [
       "<Figure size 432x288 with 1 Axes>"
      ]
     },
     "metadata": {},
     "output_type": "display_data"
    }
   ],
   "source": [
    "num_cust = list(range(0,201))\n",
    "actions = [np.argmax(action) for action in policy_pol]\n",
    "plt.plot(num_cust, actions)\n",
    "plt.xlabel('num of customers')\n",
    "plt.ylabel('action: 1=dispatch, 0=not')\n",
    "plt.title('Policy Iteration')\n",
    "plt.show()"
   ]
  },
  {
   "cell_type": "markdown",
   "metadata": {
    "collapsed": true
   },
   "source": [
    "## Q2"
   ]
  },
  {
   "cell_type": "code",
   "execution_count": null,
   "metadata": {
    "collapsed": true
   },
   "outputs": [],
   "source": [
    "# find all states\n",
    "# There are 5 types of customers and each type can have [0, 100] people waiting. \n",
    "# The total number of state is 101^5 = 10510100501, which is too large for those algorithms\n",
    "cust_cost = [1, 1.5, 2, 2.5, 3]\n",
    "state_t = []\n",
    "for cust1 in range(0, 101):\n",
    "    for cust2 in range(0, 101):\n",
    "        for cust3 in range(0, 101):\n",
    "            for cust4 in range(0, 101):\n",
    "                 for cust5 in range(0, 101):\n",
    "                        state_t.append([cust1, cust2, cust3, cust4, cust5])\n",
    "print(len(state_t))                            "
   ]
  },
  {
   "cell_type": "code",
   "execution_count": null,
   "metadata": {
    "collapsed": true
   },
   "outputs": [],
   "source": [
    "# find all next states if not dispatch\n",
    "new_come = []\n",
    "for cust1 in range(0, 6):\n",
    "    for cust2 in range(0, 6):\n",
    "        for cust3 in range(0, 6):\n",
    "            for cust4 in range(0, 6):\n",
    "                for cust5 in range(0, 6):\n",
    "                    new_come.append([cust1, cust2, cust3, cust4, cust5])\n",
    "                    \n",
    "transition_matrix_0 = []\n",
    "for s in state_t:\n",
    "    for delta_s in new_come:\n",
    "        s1 = list(map(add, s, delta_s))\n",
    "        # max customer for each type is 100\n",
    "        s1 = [100 if i >= 100 else i for i in s1]\n",
    "        s1 = [0 if i < 0 else i for i in s1]\n",
    "        # max customer in total is 200\n",
    "        if sum(s1) <= 200:\n",
    "            transition_matrix_0.append([s, s1])"
   ]
  },
  {
   "cell_type": "code",
   "execution_count": null,
   "metadata": {
    "collapsed": true
   },
   "outputs": [],
   "source": [
    "# find all rewards if not dispatch\n",
    "env_P = {}\n",
    "prob = 1 / len(transition_matrix_0) \n",
    "for s_s1 in transition_matrix_0:\n",
    "    env_P[s_s1[0]] = {}\n",
    "    env_P[s_s1[0]][0] = []\n",
    "    reward = s * (-2)\n",
    "    env_P[s_s1[0]][0].append([prob, s_s1[1], reward])"
   ]
  },
  {
   "cell_type": "code",
   "execution_count": null,
   "metadata": {
    "collapsed": true
   },
   "outputs": [],
   "source": [
    "# find all next states if dispatch\n",
    "leave_cust = []\n",
    "for cust1 in range(0, 30):\n",
    "    for cust2 in range(0, 30):\n",
    "        for cust3 in range(0, 30):\n",
    "            for cust4 in range(0, 30):\n",
    "                 for cust5 in range(0, 30):\n",
    "                        if cust1 + cust2 + cust3 + cust4 + cust5 = 30:\n",
    "                            leave_cust.append([cust1, cust2, cust3, cust4, cust4])\n",
    "                            \n",
    "delta_cust = list(map(add, new_come, leave_cust))\n",
    "transition_matrix_1 = []\n",
    "for s in state_t:\n",
    "    for delta_s in delta_cust:\n",
    "        s1 = list(map(add, s, delta_s))\n",
    "        s1 = [100 if i >= 100 else i for i in s1]\n",
    "        s1 = [0 if i < 0 else i for i in s1]\n",
    "        if sum(s1) <= 200:\n",
    "            transition_matrix_1.append([s, s1, delta_s])"
   ]
  },
  {
   "cell_type": "code",
   "execution_count": null,
   "metadata": {
    "collapsed": true
   },
   "outputs": [],
   "source": [
    "# find all rewards if dispatch\n",
    "ch = [1, 1.5, 2, 2.5, 3]\n",
    "prob1 = 1 / len(transition_matrix_0)\n",
    "for s_s1 in transition_matrix_0:\n",
    "    s = s_s1[0]\n",
    "    s1 = s_s1[1]\n",
    "    delta = s_s1[2]\n",
    "    \n",
    "    env_P[s][1] = []\n",
    "    reward = -100 - ch[0]*max(s[0]-delta[0], 0) - ch[1]*max(s[1]-delta[1], 0) - ch[2]*max(s[2]-delta[2], 0) - ch[3]*max(s[3]-delta[3], 0) - ch[4]*max(s[4]-delta[4], 0)               \n",
    "    env_P[s][1].append([prob1, s1, reward])"
   ]
  },
  {
   "cell_type": "code",
   "execution_count": null,
   "metadata": {
    "collapsed": true
   },
   "outputs": [],
   "source": [
    "# enumeration\n",
    "policy_enu, V_enu = enumeration(env_P, 10510100501)\n",
    "# value iteration\n",
    "policy_val, V_val = value_iterate(env_P, 10510100501)\n",
    "# policy iteration\n",
    "policy_pol, V_pol = policy_improve(env_P, 10510100501)"
   ]
  }
 ],
 "metadata": {
  "kernelspec": {
   "display_name": "Python 3",
   "language": "python",
   "name": "python3"
  },
  "language_info": {
   "codemirror_mode": {
    "name": "ipython",
    "version": 3
   },
   "file_extension": ".py",
   "mimetype": "text/x-python",
   "name": "python",
   "nbconvert_exporter": "python",
   "pygments_lexer": "ipython3",
   "version": "3.6.8"
  }
 },
 "nbformat": 4,
 "nbformat_minor": 2
}
