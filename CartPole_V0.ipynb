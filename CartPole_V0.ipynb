{
 "cells": [
  {
   "cell_type": "code",
   "execution_count": 1,
   "metadata": {
    "colab": {
     "base_uri": "https://localhost:8080/",
     "height": 63
    },
    "colab_type": "code",
    "id": "BN4wiBiAjypZ",
    "outputId": "f81c1e53-1636-4c44-a9e3-8f2f2fbe9cc4"
   },
   "outputs": [
    {
     "data": {
      "text/html": [
       "<p style=\"color: red;\">\n",
       "The default version of TensorFlow in Colab will soon switch to TensorFlow 2.x.<br>\n",
       "We recommend you <a href=\"https://www.tensorflow.org/guide/migrate\" target=\"_blank\">upgrade</a> now \n",
       "or ensure your notebook will continue to use TensorFlow 1.x via the <code>%tensorflow_version 1.x</code> magic:\n",
       "<a href=\"https://colab.research.google.com/notebooks/tensorflow_version.ipynb\" target=\"_blank\">more info</a>.</p>\n"
      ],
      "text/plain": [
       "<IPython.core.display.HTML object>"
      ]
     },
     "metadata": {
      "tags": []
     },
     "output_type": "display_data"
    }
   ],
   "source": [
    "import gym\n",
    "import numpy as np\n",
    "import matplotlib.pyplot as plt\n",
    "import tensorflow as tf"
   ]
  },
  {
   "cell_type": "code",
   "execution_count": 0,
   "metadata": {
    "colab": {},
    "colab_type": "code",
    "collapsed": true,
    "id": "rlsp2Q0jvlu4"
   },
   "outputs": [],
   "source": [
    "import os\n",
    "os.environ[\"CUDA_VISIBLE_DEVICES\"] = \"1\""
   ]
  },
  {
   "cell_type": "markdown",
   "metadata": {
    "colab": {},
    "colab_type": "code",
    "id": "8UHzNTZQr4Fp"
   },
   "source": [
    "# Create environment"
   ]
  },
  {
   "cell_type": "code",
   "execution_count": 0,
   "metadata": {
    "colab": {},
    "colab_type": "code",
    "collapsed": true,
    "id": "zc_-23imjypc"
   },
   "outputs": [],
   "source": [
    "env = gym.make('CartPole-v0')"
   ]
  },
  {
   "cell_type": "code",
   "execution_count": 0,
   "metadata": {
    "colab": {},
    "colab_type": "code",
    "collapsed": true,
    "id": "lI-KGYb9mi4W"
   },
   "outputs": [],
   "source": [
    "gamma = 0.95 # discount rate\n",
    "learning_rate = 0.01\n",
    "episodes = 100\n",
    "epochs = 100\n",
    "baseline = True # use non-constant baseline or not"
   ]
  },
  {
   "cell_type": "code",
   "execution_count": 0,
   "metadata": {
    "colab": {},
    "colab_type": "code",
    "collapsed": true,
    "id": "Hh7NKJH2mmw8"
   },
   "outputs": [],
   "source": [
    "state_size = 4\n",
    "n_actions = env.action_space.n "
   ]
  },
  {
   "cell_type": "markdown",
   "metadata": {
    "colab": {},
    "colab_type": "code",
    "id": "uRS4ZlVaruGc"
   },
   "source": [
    "# Define the function of the rewards and perform discounting"
   ]
  },
  {
   "cell_type": "code",
   "execution_count": 0,
   "metadata": {
    "colab": {},
    "colab_type": "code",
    "collapsed": true,
    "id": "v48HO8X2jyps"
   },
   "outputs": [],
   "source": [
    "def discount_reward(r, gamma=0.95, normalization=False):\n",
    "    discounted_r = np.zeros_like(r)\n",
    "    running_add = 0\n",
    "    for t in reversed(range(0, len(r))):\n",
    "        running_add = running_add * gamma + r[t]\n",
    "        discounted_r[t] = running_add\n",
    "    \n",
    "    if normalization:\n",
    "        mean = np.mean(discounted_r)\n",
    "        std = np.std(discounted_r)\n",
    "        discounted_r = (discounted_r - mean) / std\n",
    "        \n",
    "    return list(discounted_r)"
   ]
  },
  {
   "cell_type": "markdown",
   "metadata": {
    "colab": {},
    "colab_type": "code",
    "id": "k2p48u6OrpV6"
   },
   "source": [
    "# Create our Policy Gradient Neural Network model"
   ]
  },
  {
   "cell_type": "code",
   "execution_count": 0,
   "metadata": {
    "colab": {},
    "colab_type": "code",
    "collapsed": true,
    "id": "WIcd-US5m9e-"
   },
   "outputs": [],
   "source": [
    "class Baseline():\n",
    "    def __init__(self, learning_rate=0.01, state_size=4, name=\"Baseline\"):\n",
    "        with tf.variable_scope(name):\n",
    "            self.inputs_ = tf.placeholder(tf.float32, [None, state_size], name='inputs')\n",
    "            self.discounted_episodes_rewards_ = tf.placeholder(tf.float32, [None,], name='discounted_episodes_rewards_')\n",
    "\n",
    "            self.fc1 = tf.contrib.layers.fully_connected(self.inputs_, 10, \n",
    "                                                         weights_initializer=tf.contrib.layers.xavier_initializer())\n",
    "            self.fc2 = tf.contrib.layers.fully_connected(self.fc1, 8, \n",
    "                                                         weights_initializer=tf.contrib.layers.xavier_initializer())\n",
    "            self.fc3 = tf.contrib.layers.fully_connected(self.fc2, 1, activation_fn=None, \n",
    "                                                                 weights_initializer=tf.contrib.layers.xavier_initializer())\n",
    "\n",
    "            self.loss = tf.reduce_mean(tf.square(self.fc3 - self.discounted_episodes_rewards_), name=\"mse\")\n",
    "            self.learn = tf.train.AdamOptimizer(learning_rate).minimize(self.loss)"
   ]
  },
  {
   "cell_type": "code",
   "execution_count": 0,
   "metadata": {
    "colab": {},
    "colab_type": "code",
    "collapsed": true,
    "id": "9S9Zqr6ypHEL"
   },
   "outputs": [],
   "source": [
    "class PolicyGradient():\n",
    "    def __init__(self, learning_rate=0.01, state_size=4, action_size=2, name='PolicyGradient'):\n",
    "        with tf.variable_scope(name):\n",
    "            with tf.name_scope(\"inputs\"):\n",
    "                self.inputs_ = tf.placeholder(tf.float32, [None, state_size], name='inputs')\n",
    "                self.actions_ = tf.placeholder(tf.int32, [None, action_size], name='actions')\n",
    "                self.discounted_episodes_rewards_ = tf.placeholder(tf.float32, [None,], name=\"discounted_episodes_rewards_\")\n",
    "\n",
    "            with tf.name_scope(\"layers\"):\n",
    "                self.fc1 = tf.contrib.layers.fully_connected(self.inputs_, 64, \n",
    "                                                             weights_initializer=tf.contrib.layers.xavier_initializer())\n",
    "                self.fc2 = tf.contrib.layers.fully_connected(self.fc1, 32, \n",
    "                                                             weights_initializer=tf.contrib.layers.xavier_initializer())\n",
    "            \n",
    "            with tf.name_scope(\"flatten\"):\n",
    "                self.flatten = tf.contrib.layers.flatten(self.fc2)\n",
    "                self.logits = tf.layers.dense(inputs = self.flatten, units = action_size, activation = tf.nn.relu, \n",
    "                                         kernel_initializer=tf.contrib.layers.xavier_initializer_conv2d())\n",
    "            \n",
    "            with tf.name_scope(\"softmax\"):\n",
    "                self.action_distribution = tf.nn.softmax(self.logits)\n",
    "            \n",
    "            with tf.name_scope(\"loss\"):\n",
    "                self.neg_log_prob = tf.nn.softmax_cross_entropy_with_logits_v2(logits = self.logits, labels = self.actions_)\n",
    "                self.loss = tf.reduce_mean(self.neg_log_prob * self.discounted_episodes_rewards_)\n",
    "                self.learn = tf.train.RMSPropOptimizer(learning_rate).minimize(self.loss)"
   ]
  },
  {
   "cell_type": "code",
   "execution_count": 8,
   "metadata": {
    "colab": {
     "base_uri": "https://localhost:8080/",
     "height": 377
    },
    "colab_type": "code",
    "id": "wsPk7WAjnX3E",
    "outputId": "899f35a2-dc5d-4373-a8c1-79ab97d5749b"
   },
   "outputs": [
    {
     "name": "stdout",
     "output_type": "stream",
     "text": [
      "WARNING:tensorflow:\n",
      "The TensorFlow contrib module will not be included in TensorFlow 2.0.\n",
      "For more information, please see:\n",
      "  * https://github.com/tensorflow/community/blob/master/rfcs/20180907-contrib-sunset.md\n",
      "  * https://github.com/tensorflow/addons\n",
      "  * https://github.com/tensorflow/io (for I/O related ops)\n",
      "If you depend on functionality not listed there, please file an issue.\n",
      "\n",
      "WARNING:tensorflow:From /usr/local/lib/python3.6/dist-packages/tensorflow_core/contrib/layers/python/layers/layers.py:1866: Layer.apply (from tensorflow.python.keras.engine.base_layer) is deprecated and will be removed in a future version.\n",
      "Instructions for updating:\n",
      "Please use `layer.__call__` method instead.\n",
      "WARNING:tensorflow:From /usr/local/lib/python3.6/dist-packages/tensorflow_core/contrib/layers/python/layers/layers.py:1634: flatten (from tensorflow.python.layers.core) is deprecated and will be removed in a future version.\n",
      "Instructions for updating:\n",
      "Use keras.layers.flatten instead.\n",
      "WARNING:tensorflow:From <ipython-input-7-321e3e6974fe>:21: dense (from tensorflow.python.layers.core) is deprecated and will be removed in a future version.\n",
      "Instructions for updating:\n",
      "Use keras.layers.Dense instead.\n",
      "WARNING:tensorflow:From /usr/local/lib/python3.6/dist-packages/tensorflow_core/python/training/rmsprop.py:119: calling Ones.__init__ (from tensorflow.python.ops.init_ops) with dtype is deprecated and will be removed in a future version.\n",
      "Instructions for updating:\n",
      "Call initializer instance with the dtype argument instead of passing it to the constructor\n"
     ]
    }
   ],
   "source": [
    "tf.reset_default_graph()\n",
    "CartPole = PolicyGradient(name='CartPole', learning_rate=learning_rate, state_size=state_size, action_size=n_actions)\n",
    "baseline = Baseline(name='Base', learning_rate=learning_rate, state_size=state_size)"
   ]
  },
  {
   "cell_type": "markdown",
   "metadata": {
    "colab": {},
    "colab_type": "code",
    "id": "Fw-2D5alrkDI"
   },
   "source": [
    "# Train the agent"
   ]
  },
  {
   "cell_type": "code",
   "execution_count": 9,
   "metadata": {
    "colab": {
     "base_uri": "https://localhost:8080/",
     "height": 1000
    },
    "colab_type": "code",
    "id": "Lj5BpDBcngFs",
    "outputId": "2be088f0-763c-42b1-9f9c-cbf7105b3216"
   },
   "outputs": [
    {
     "name": "stdout",
     "output_type": "stream",
     "text": [
      "-----------------------------\n",
      "epoch 0 finished\n",
      "average reward per episode in epoch: 23.08\n",
      "-----------------------------\n",
      "epoch 1 finished\n",
      "average reward per episode in epoch: 24.45\n",
      "-----------------------------\n",
      "epoch 2 finished\n",
      "average reward per episode in epoch: 25.47\n",
      "-----------------------------\n",
      "epoch 3 finished\n",
      "average reward per episode in epoch: 25.0\n",
      "-----------------------------\n",
      "epoch 4 finished\n",
      "average reward per episode in epoch: 23.33\n",
      "-----------------------------\n",
      "epoch 5 finished\n",
      "average reward per episode in epoch: 24.22\n",
      "-----------------------------\n",
      "epoch 6 finished\n",
      "average reward per episode in epoch: 24.13\n",
      "-----------------------------\n",
      "epoch 7 finished\n",
      "average reward per episode in epoch: 24.78\n",
      "-----------------------------\n",
      "epoch 8 finished\n",
      "average reward per episode in epoch: 22.89\n",
      "-----------------------------\n",
      "epoch 9 finished\n",
      "average reward per episode in epoch: 24.76\n",
      "-----------------------------\n",
      "epoch 10 finished\n",
      "average reward per episode in epoch: 24.87\n",
      "-----------------------------\n",
      "epoch 11 finished\n",
      "average reward per episode in epoch: 24.52\n",
      "-----------------------------\n",
      "epoch 12 finished\n",
      "average reward per episode in epoch: 26.07\n",
      "-----------------------------\n",
      "epoch 13 finished\n",
      "average reward per episode in epoch: 26.86\n",
      "-----------------------------\n",
      "epoch 14 finished\n",
      "average reward per episode in epoch: 24.38\n",
      "-----------------------------\n",
      "epoch 15 finished\n",
      "average reward per episode in epoch: 29.78\n",
      "-----------------------------\n",
      "epoch 16 finished\n",
      "average reward per episode in epoch: 29.45\n",
      "-----------------------------\n",
      "epoch 17 finished\n",
      "average reward per episode in epoch: 28.28\n",
      "-----------------------------\n",
      "epoch 18 finished\n",
      "average reward per episode in epoch: 27.6\n",
      "-----------------------------\n",
      "epoch 19 finished\n",
      "average reward per episode in epoch: 28.65\n",
      "-----------------------------\n",
      "epoch 20 finished\n",
      "average reward per episode in epoch: 28.39\n",
      "-----------------------------\n",
      "epoch 21 finished\n",
      "average reward per episode in epoch: 28.09\n",
      "-----------------------------\n",
      "epoch 22 finished\n",
      "average reward per episode in epoch: 31.06\n",
      "-----------------------------\n",
      "epoch 23 finished\n",
      "average reward per episode in epoch: 29.25\n",
      "-----------------------------\n",
      "epoch 24 finished\n",
      "average reward per episode in epoch: 30.35\n",
      "-----------------------------\n",
      "epoch 25 finished\n",
      "average reward per episode in epoch: 29.3\n",
      "-----------------------------\n",
      "epoch 26 finished\n",
      "average reward per episode in epoch: 30.42\n",
      "-----------------------------\n",
      "epoch 27 finished\n",
      "average reward per episode in epoch: 30.9\n",
      "-----------------------------\n",
      "epoch 28 finished\n",
      "average reward per episode in epoch: 33.09\n",
      "-----------------------------\n",
      "epoch 29 finished\n",
      "average reward per episode in epoch: 32.02\n",
      "-----------------------------\n",
      "epoch 30 finished\n",
      "average reward per episode in epoch: 34.53\n",
      "-----------------------------\n",
      "epoch 31 finished\n",
      "average reward per episode in epoch: 35.29\n",
      "-----------------------------\n",
      "epoch 32 finished\n",
      "average reward per episode in epoch: 33.52\n",
      "-----------------------------\n",
      "epoch 33 finished\n",
      "average reward per episode in epoch: 39.52\n",
      "-----------------------------\n",
      "epoch 34 finished\n",
      "average reward per episode in epoch: 38.35\n",
      "-----------------------------\n",
      "epoch 35 finished\n",
      "average reward per episode in epoch: 43.49\n",
      "-----------------------------\n",
      "epoch 36 finished\n",
      "average reward per episode in epoch: 43.03\n",
      "-----------------------------\n",
      "epoch 37 finished\n",
      "average reward per episode in epoch: 43.05\n",
      "-----------------------------\n",
      "epoch 38 finished\n",
      "average reward per episode in epoch: 45.12\n",
      "-----------------------------\n",
      "epoch 39 finished\n",
      "average reward per episode in epoch: 48.76\n",
      "-----------------------------\n",
      "epoch 40 finished\n",
      "average reward per episode in epoch: 49.59\n",
      "-----------------------------\n",
      "epoch 41 finished\n",
      "average reward per episode in epoch: 46.3\n",
      "-----------------------------\n",
      "epoch 42 finished\n",
      "average reward per episode in epoch: 54.13\n",
      "-----------------------------\n",
      "epoch 43 finished\n",
      "average reward per episode in epoch: 55.36\n",
      "-----------------------------\n",
      "epoch 44 finished\n",
      "average reward per episode in epoch: 56.3\n",
      "-----------------------------\n",
      "epoch 45 finished\n",
      "average reward per episode in epoch: 64.53\n",
      "-----------------------------\n",
      "epoch 46 finished\n",
      "average reward per episode in epoch: 61.3\n",
      "-----------------------------\n",
      "epoch 47 finished\n",
      "average reward per episode in epoch: 64.24\n",
      "-----------------------------\n",
      "epoch 48 finished\n",
      "average reward per episode in epoch: 69.54\n",
      "-----------------------------\n",
      "epoch 49 finished\n",
      "average reward per episode in epoch: 72.49\n",
      "-----------------------------\n",
      "epoch 50 finished\n",
      "average reward per episode in epoch: 89.57\n",
      "-----------------------------\n",
      "epoch 51 finished\n",
      "average reward per episode in epoch: 81.23\n",
      "-----------------------------\n",
      "epoch 52 finished\n",
      "average reward per episode in epoch: 84.27\n",
      "-----------------------------\n",
      "epoch 53 finished\n",
      "average reward per episode in epoch: 92.06\n",
      "-----------------------------\n",
      "epoch 54 finished\n",
      "average reward per episode in epoch: 92.52\n",
      "-----------------------------\n",
      "epoch 55 finished\n",
      "average reward per episode in epoch: 98.68\n",
      "-----------------------------\n",
      "epoch 56 finished\n",
      "average reward per episode in epoch: 94.84\n",
      "-----------------------------\n",
      "epoch 57 finished\n",
      "average reward per episode in epoch: 120.38\n",
      "-----------------------------\n",
      "epoch 58 finished\n",
      "average reward per episode in epoch: 131.18\n",
      "-----------------------------\n",
      "epoch 59 finished\n",
      "average reward per episode in epoch: 130.16\n",
      "-----------------------------\n",
      "epoch 60 finished\n",
      "average reward per episode in epoch: 136.7\n",
      "-----------------------------\n",
      "epoch 61 finished\n",
      "average reward per episode in epoch: 157.17\n",
      "-----------------------------\n",
      "epoch 62 finished\n",
      "average reward per episode in epoch: 159.11\n",
      "-----------------------------\n",
      "epoch 63 finished\n",
      "average reward per episode in epoch: 156.52\n",
      "-----------------------------\n",
      "epoch 64 finished\n",
      "average reward per episode in epoch: 162.75\n",
      "-----------------------------\n",
      "epoch 65 finished\n",
      "average reward per episode in epoch: 152.42\n",
      "-----------------------------\n",
      "epoch 66 finished\n",
      "average reward per episode in epoch: 146.31\n",
      "-----------------------------\n",
      "epoch 67 finished\n",
      "average reward per episode in epoch: 161.13\n",
      "-----------------------------\n",
      "epoch 68 finished\n",
      "average reward per episode in epoch: 172.85\n",
      "-----------------------------\n",
      "epoch 69 finished\n",
      "average reward per episode in epoch: 174.41\n",
      "-----------------------------\n",
      "epoch 70 finished\n",
      "average reward per episode in epoch: 176.47\n",
      "-----------------------------\n",
      "epoch 71 finished\n",
      "average reward per episode in epoch: 186.13\n",
      "-----------------------------\n",
      "epoch 72 finished\n",
      "average reward per episode in epoch: 181.64\n",
      "-----------------------------\n",
      "epoch 73 finished\n",
      "average reward per episode in epoch: 172.99\n",
      "-----------------------------\n",
      "epoch 74 finished\n",
      "average reward per episode in epoch: 164.12\n",
      "-----------------------------\n",
      "epoch 75 finished\n",
      "average reward per episode in epoch: 184.2\n",
      "-----------------------------\n",
      "epoch 76 finished\n",
      "average reward per episode in epoch: 179.49\n",
      "-----------------------------\n",
      "epoch 77 finished\n",
      "average reward per episode in epoch: 167.85\n",
      "-----------------------------\n",
      "epoch 78 finished\n",
      "average reward per episode in epoch: 153.79\n",
      "-----------------------------\n",
      "epoch 79 finished\n",
      "average reward per episode in epoch: 167.4\n",
      "-----------------------------\n",
      "epoch 80 finished\n",
      "average reward per episode in epoch: 187.82\n",
      "-----------------------------\n",
      "epoch 81 finished\n",
      "average reward per episode in epoch: 195.7\n",
      "-----------------------------\n",
      "epoch 82 finished\n",
      "average reward per episode in epoch: 190.56\n",
      "-----------------------------\n",
      "epoch 83 finished\n",
      "average reward per episode in epoch: 195.65\n",
      "-----------------------------\n",
      "epoch 84 finished\n",
      "average reward per episode in epoch: 197.41\n",
      "-----------------------------\n",
      "epoch 85 finished\n",
      "average reward per episode in epoch: 192.78\n",
      "-----------------------------\n",
      "epoch 86 finished\n",
      "average reward per episode in epoch: 182.59\n",
      "-----------------------------\n",
      "epoch 87 finished\n",
      "average reward per episode in epoch: 189.74\n",
      "-----------------------------\n",
      "epoch 88 finished\n",
      "average reward per episode in epoch: 194.92\n",
      "-----------------------------\n",
      "epoch 89 finished\n",
      "average reward per episode in epoch: 175.64\n",
      "-----------------------------\n",
      "epoch 90 finished\n",
      "average reward per episode in epoch: 197.51\n",
      "-----------------------------\n",
      "epoch 91 finished\n",
      "average reward per episode in epoch: 195.12\n",
      "-----------------------------\n",
      "epoch 92 finished\n",
      "average reward per episode in epoch: 166.45\n",
      "-----------------------------\n",
      "epoch 93 finished\n",
      "average reward per episode in epoch: 199.08\n",
      "-----------------------------\n",
      "epoch 94 finished\n",
      "average reward per episode in epoch: 197.6\n",
      "-----------------------------\n",
      "epoch 95 finished\n",
      "average reward per episode in epoch: 196.2\n",
      "-----------------------------\n",
      "epoch 96 finished\n",
      "average reward per episode in epoch: 197.47\n",
      "-----------------------------\n",
      "epoch 97 finished\n",
      "average reward per episode in epoch: 199.3\n",
      "-----------------------------\n",
      "epoch 98 finished\n",
      "average reward per episode in epoch: 196.44\n",
      "-----------------------------\n",
      "epoch 99 finished\n",
      "average reward per episode in epoch: 196.52\n"
     ]
    }
   ],
   "source": [
    "# Initialization\n",
    "env.reset()\n",
    "all_rewards = []\n",
    "\n",
    "with tf.Session() as sess: \n",
    "    sess.run(tf.global_variables_initializer())\n",
    "    \n",
    "    # Each epoch\n",
    "    for epoch in range(epochs):\n",
    "        \n",
    "        # Store action, state and reward\n",
    "        all_states, all_actions, all_discount_rewards = [], [], []\n",
    "        running_rewards = []\n",
    "        \n",
    "        # Each batch\n",
    "        for episode in range(episodes):\n",
    "\n",
    "            state = env.reset()\n",
    "            episode_rewards = []\n",
    "            \n",
    "            while True:            \n",
    "                # Select action and play that action\n",
    "                action_probability_distribution = sess.run(CartPole.action_distribution, \n",
    "                                                           feed_dict={CartPole.inputs_: state.reshape((1,*state.shape))})\n",
    "                \n",
    "                action = np.random.choice(range(action_probability_distribution.shape[1]), p=action_probability_distribution.ravel())  \n",
    "                new_state, reward, done, _ = env.step(action)\n",
    "                \n",
    "                # Record action, state and reward\n",
    "                all_states.append(state)\n",
    "                episode_rewards.append(reward)\n",
    "                \n",
    "                selected_action = np.zeros(action_probability_distribution.shape[1])\n",
    "                selected_action[action] = 1\n",
    "                all_actions.append(selected_action)\n",
    "                \n",
    "                # Set current state to new state\n",
    "                state = new_state\n",
    "                \n",
    "                if done:\n",
    "                    # Discounted reward per episode\n",
    "                    dis_rewards = discount_reward(episode_rewards)\n",
    "                    all_discount_rewards += dis_rewards\n",
    "                    \n",
    "                    # Total reward per episode\n",
    "                    running_rewards.append(sum(episode_rewards))\n",
    "                    break\n",
    "        \n",
    "        # Baseline \n",
    "        if baseline: \n",
    "            original_reward = all_discount_rewards.copy()\n",
    "            baseline_reward = sess.run(baseline.fc3, feed_dict={baseline.inputs_ : np.vstack(all_states)})\n",
    "            all_discount_rewards -= np.hstack(baseline_reward)\n",
    "\n",
    "            _, _= sess.run([baseline.loss, baseline.learn], \n",
    "                        feed_dict={baseline.inputs_: np.vstack(all_states),\n",
    "                        baseline.discounted_episodes_rewards_: original_reward })\n",
    "         \n",
    "        # Update policy gradient \n",
    "        _, _= sess.run([CartPole.loss, CartPole.learn], \n",
    "                                     feed_dict={CartPole.inputs_: np.vstack(all_states),\n",
    "                                     CartPole.actions_: np.vstack(all_actions),\n",
    "                                     CartPole.discounted_episodes_rewards_: all_discount_rewards })      \n",
    "        \n",
    "        # Average reward per episodes in epoch\n",
    "        epoch_reward = np.mean(running_rewards)\n",
    "        all_rewards.append(epoch_reward)\n",
    "        print('-----------------------------')\n",
    "        print('epoch ' + str(epoch) + ' finished') \n",
    "        print('average reward per episode in epoch:',epoch_reward)\n",
    "        \n",
    "        # Early stopping\n",
    "        if epoch_reward >= 200:\n",
    "            break"
   ]
  },
  {
   "cell_type": "code",
   "execution_count": 12,
   "metadata": {
    "colab": {
     "base_uri": "https://localhost:8080/",
     "height": 295
    },
    "colab_type": "code",
    "id": "hYi9ZKk6vOOu",
    "outputId": "13d01ad1-0229-49f9-f6d3-4e86cfecc358"
   },
   "outputs": [
    {
     "data": {
      "image/png": "[encoded data removed]",
      "text/plain": [
       "<Figure size 432x288 with 1 Axes>"
      ]
     },
     "metadata": {
      "tags": []
     },
     "output_type": "display_data"
    }
   ],
   "source": [
    "plt.plot(all_rewards)\n",
    "plt.title('(average) episode reward versus training epochs')\n",
    "plt.xlabel('epoch')\n",
    "plt.show()"
   ]
  },
  {
   "cell_type": "code",
   "execution_count": 0,
   "metadata": {
    "colab": {},
    "colab_type": "code",
    "collapsed": true,
    "id": "C5mvm8xixwtw"
   },
   "outputs": [],
   "source": []
  }
 ],
 "metadata": {
  "colab": {
   "machine_shape": "hm",
   "name": "Cartpole REINFORCE Monte Carlo Policy Gradients.ipynb",
   "provenance": []
  },
  "kernelspec": {
   "display_name": "Python 3",
   "language": "python",
   "name": "python3"
  },
  "language_info": {
   "codemirror_mode": {
    "name": "ipython",
    "version": 3
   },
   "file_extension": ".py",
   "mimetype": "text/x-python",
   "name": "python",
   "nbconvert_exporter": "python",
   "pygments_lexer": "ipython3",
   "version": "3.6.8"
  }
 },
 "nbformat": 4,
 "nbformat_minor": 1
}
