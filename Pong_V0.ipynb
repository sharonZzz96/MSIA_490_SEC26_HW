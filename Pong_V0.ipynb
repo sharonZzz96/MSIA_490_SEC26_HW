{
 "cells": [
  {
   "cell_type": "code",
   "execution_count": 1,
   "metadata": {
    "colab": {
     "base_uri": "https://localhost:8080/",
     "height": 63
    },
    "colab_type": "code",
    "id": "3PFsrcczZWOi",
    "outputId": "a5ad95f1-8691-4d63-edee-e796f4577461"
   },
   "outputs": [
    {
     "data": {
      "text/html": [
       "<p style=\"color: red;\">\n",
       "The default version of TensorFlow in Colab will soon switch to TensorFlow 2.x.<br>\n",
       "We recommend you <a href=\"https://www.tensorflow.org/guide/migrate\" target=\"_blank\">upgrade</a> now \n",
       "or ensure your notebook will continue to use TensorFlow 1.x via the <code>%tensorflow_version 1.x</code> magic:\n",
       "<a href=\"https://colab.research.google.com/notebooks/tensorflow_version.ipynb\" target=\"_blank\">more info</a>.</p>\n"
      ],
      "text/plain": [
       "<IPython.core.display.HTML object>"
      ]
     },
     "metadata": {
      "tags": []
     },
     "output_type": "display_data"
    }
   ],
   "source": [
    "import gym\n",
    "import numpy as np\n",
    "import matplotlib.pyplot as plt\n",
    "import tensorflow as tf"
   ]
  },
  {
   "cell_type": "code",
   "execution_count": 0,
   "metadata": {
    "colab": {},
    "colab_type": "code",
    "collapsed": true,
    "id": "2RpcStGlyfLY"
   },
   "outputs": [],
   "source": [
    "import os\n",
    "os.environ[\"CUDA_VISIBLE_DEVICES\"] = \"1\""
   ]
  },
  {
   "cell_type": "code",
   "execution_count": 0,
   "metadata": {
    "colab": {},
    "colab_type": "code",
    "collapsed": true,
    "id": "fke3FqlnZbxy"
   },
   "outputs": [],
   "source": [
    "env = gym.make(\"Pong-v0\")"
   ]
  },
  {
   "cell_type": "code",
   "execution_count": 0,
   "metadata": {
    "colab": {},
    "colab_type": "code",
    "collapsed": true,
    "id": "9uONE3hKykIU"
   },
   "outputs": [],
   "source": [
    "learning_rate = 0.01\n",
    "state_size = 6400\n",
    "n_actions = env.action_space.n # number of available actions\n",
    "\n",
    "learning_rate = 0.01\n",
    "episodes = 10\n",
    "epochs = 1000\n",
    "baseline = True # constant baseline or not"
   ]
  },
  {
   "cell_type": "code",
   "execution_count": 0,
   "metadata": {
    "colab": {},
    "colab_type": "code",
    "collapsed": true,
    "id": "shpTxsh_ZgPt"
   },
   "outputs": [],
   "source": [
    "def preprocess(image):\n",
    "    \"\"\" prepro 210x160x3 uint8 frame into 6400 (80x80) 2D float array \"\"\"\n",
    "    image = image[35:195] # crop\n",
    "    image = image[::2,::2,0] # downsample by factor of 2\n",
    "    image[image == 144] = 0 # erase background (background type 1)\n",
    "    image[image == 109] = 0 # erase background (background type 2)\n",
    "    image[image != 0] = 1 # everything else (paddles, ball) just set to 1\n",
    "    return np.reshape(image.astype(np.float).ravel(), [80,80])"
   ]
  },
  {
   "cell_type": "code",
   "execution_count": 0,
   "metadata": {
    "colab": {},
    "colab_type": "code",
    "collapsed": true,
    "id": "E1Lv8vLSZmG5"
   },
   "outputs": [],
   "source": [
    "def discount_reward(r, gamma=0.99, normalization=False):\n",
    "    discounted_r = np.zeros_like(r)\n",
    "    running_add = 0\n",
    "    for t in reversed(range(0, len(r))):\n",
    "        running_add = running_add * gamma + r[t]\n",
    "        discounted_r[t] = running_add\n",
    "    \n",
    "    if normalization:\n",
    "        mean = np.mean(discounted_r)\n",
    "        std = np.std(discounted_r)\n",
    "        discounted_r = (discounted_r - mean) / std\n",
    "        \n",
    "    return list(discounted_r)"
   ]
  },
  {
   "cell_type": "code",
   "execution_count": 0,
   "metadata": {
    "colab": {},
    "colab_type": "code",
    "collapsed": true,
    "id": "C4nx1nR9y9fV"
   },
   "outputs": [],
   "source": [
    "class PolicyGradient():\n",
    "    def __init__(self, learning_rate=0.01, state_size=state_size, action_size=n_actions, name=\"PolicyGradient\"):\n",
    "\n",
    "        with tf.name_scope(\"inputs\"):\n",
    "            self.inputs_ = tf.placeholder(tf.float32, [None, state_size], name=\"inputs\")\n",
    "            self.actions_ = tf.placeholder(tf.int32, [None, action_size], name=\"actions\")\n",
    "            self.discounted_episodes_rewards_ = tf.placeholder(tf.float32, [None,], name=\"discounted_episodes_rewards_\")\n",
    "        \n",
    "        with tf.name_scope(\"layers\"):\n",
    "            self.fc1 = tf.contrib.layers.fully_connected(self.inputs_, num_outputs=256, weights_initializer=tf.contrib.layers.xavier_initializer())\n",
    "          #  self.fc2 = tf.contrib.layers.fully_connected(self.inputs_, num_outputs=128, weights_initializer=tf.contrib.layers.xavier_initializer())\n",
    "\n",
    "        with tf.name_scope(\"flatten\"):\n",
    "            self.flatten = tf.contrib.layers.flatten(self.fc1)\n",
    "            self.logits = tf.layers.dense(inputs = self.flatten, units = action_size, activation = tf.nn.relu, \n",
    "                                     kernel_initializer=tf.contrib.layers.xavier_initializer_conv2d())\n",
    "\n",
    "        with tf.name_scope(\"softmax\"):\n",
    "            self.action_distribution = tf.nn.softmax(self.logits)\n",
    "\n",
    "        with tf.name_scope(\"loss\"):\n",
    "            self.neg_log_prob = tf.nn.softmax_cross_entropy_with_logits_v2(logits = self.logits, labels = self.actions_)\n",
    "            self.loss = tf.reduce_mean(self.neg_log_prob * self.discounted_episodes_rewards_)\n",
    "            self.learn = tf.train.RMSPropOptimizer(learning_rate).minimize(self.loss)\n"
   ]
  },
  {
   "cell_type": "code",
   "execution_count": 9,
   "metadata": {
    "colab": {
     "base_uri": "https://localhost:8080/",
     "height": 377
    },
    "colab_type": "code",
    "id": "Pwd00QhBz7oz",
    "outputId": "e4ae3b28-ebd7-4d1d-db96-a44a906b6670"
   },
   "outputs": [
    {
     "name": "stdout",
     "output_type": "stream",
     "text": [
      "WARNING:tensorflow:\n",
      "The TensorFlow contrib module will not be included in TensorFlow 2.0.\n",
      "For more information, please see:\n",
      "  * https://github.com/tensorflow/community/blob/master/rfcs/20180907-contrib-sunset.md\n",
      "  * https://github.com/tensorflow/addons\n",
      "  * https://github.com/tensorflow/io (for I/O related ops)\n",
      "If you depend on functionality not listed there, please file an issue.\n",
      "\n",
      "WARNING:tensorflow:From /usr/local/lib/python3.6/dist-packages/tensorflow_core/contrib/layers/python/layers/layers.py:1866: Layer.apply (from tensorflow.python.keras.engine.base_layer) is deprecated and will be removed in a future version.\n",
      "Instructions for updating:\n",
      "Please use `layer.__call__` method instead.\n",
      "WARNING:tensorflow:From /usr/local/lib/python3.6/dist-packages/tensorflow_core/contrib/layers/python/layers/layers.py:1634: flatten (from tensorflow.python.layers.core) is deprecated and will be removed in a future version.\n",
      "Instructions for updating:\n",
      "Use keras.layers.flatten instead.\n",
      "WARNING:tensorflow:From <ipython-input-8-ca0c3be84a0f>:16: dense (from tensorflow.python.layers.core) is deprecated and will be removed in a future version.\n",
      "Instructions for updating:\n",
      "Use keras.layers.Dense instead.\n",
      "WARNING:tensorflow:From /usr/local/lib/python3.6/dist-packages/tensorflow_core/python/training/rmsprop.py:119: calling Ones.__init__ (from tensorflow.python.ops.init_ops) with dtype is deprecated and will be removed in a future version.\n",
      "Instructions for updating:\n",
      "Call initializer instance with the dtype argument instead of passing it to the constructor\n"
     ]
    }
   ],
   "source": [
    "tf.reset_default_graph()\n",
    "Pong = PolicyGradient(name='Pong', learning_rate=learning_rate, state_size=state_size, action_size=n_actions)"
   ]
  },
  {
   "cell_type": "code",
   "execution_count": null,
   "metadata": {
    "collapsed": true
   },
   "outputs": [],
   "source": [
    "# Initialize the simulation\n",
    "env.reset()\n",
    "all_rewards = []\n",
    "\n",
    "with tf.Session() as sess: \n",
    "    sess.run(tf.global_variables_initializer())\n",
    "    \n",
    "    # Each epoch\n",
    "    for epoch in range(epochs):\n",
    "        \n",
    "        # Store action, state and reward\n",
    "        all_states, all_actions, all_discount_rewards = [], [], []\n",
    "        running_rewards = []\n",
    "        \n",
    "        for episode in range(episodes):\n",
    "            \n",
    "            state = env.reset()\n",
    "            episode_rewards = []\n",
    "            \n",
    "            while True:            \n",
    "                # Select action and play that action\n",
    "                action_probability_distribution = sess.run(Pong.action_distribution, feed_dict={Pong.inputs_: preprocess(state).reshape(1, state_size)})\n",
    "                action = np.random.choice(range(action_probability_distribution.shape[1]), p=action_probability_distribution.ravel())\n",
    "                new_state, reward, done, _ = env.step(action)\n",
    "                \n",
    "                # Record action, state and reward\n",
    "                all_states.append(preprocess(state).reshape(1, state_size))\n",
    "                episode_rewards.append(reward)\n",
    "\n",
    "                selected_action = np.zeros(action_probability_distribution.shape[1])\n",
    "                selected_action[action] = 1\n",
    "                all_actions.append(selected_action)\n",
    "                \n",
    "                # Set current state to new state\n",
    "                state = new_state\n",
    "                \n",
    "                if done:\n",
    "                    # Discounted reward per episode\n",
    "                    dis_rewards = discount_reward(episode_rewards)\n",
    "                    all_discount_rewards += dis_rewards\n",
    "                    \n",
    "                    # Total reward per episode\n",
    "                    running_rewards.append(sum(episode_rewards))\n",
    "                    break\n",
    "        \n",
    "        # Baseline \n",
    "        if baseline: \n",
    "            all_discount_rewards -= np.mean(all_discount_rewards)\n",
    "            all_discount_rewards /= np.std(all_discount_rewards)\n",
    "         \n",
    "        # Update policy gradient\n",
    "        _, _= sess.run([Pong.loss, Pong.learn], \n",
    "                                     feed_dict={Pong.inputs_: np.vstack(all_states),\n",
    "                                     Pong.actions_: np.vstack(all_actions),\n",
    "                                     Pong.discounted_episodes_rewards_: all_discount_rewards })           \n",
    "        \n",
    "        # Average reward per episodes in epoch\n",
    "        epoch_reward = np.mean(running_rewards)\n",
    "        all_rewards.append(epoch_reward)\n",
    "#         print('-----------------------------')\n",
    "#         print('epoch ' + str(epoch) + ' finished') \n",
    "#         print('average reward per episode in epoch:',epoch_reward)"
   ]
  },
  {
   "cell_type": "code",
   "execution_count": 13,
   "metadata": {
    "colab": {
     "base_uri": "https://localhost:8080/",
     "height": 265
    },
    "colab_type": "code",
    "id": "yGWJMl6bt6Dg",
    "outputId": "529225b1-4138-4561-ade6-8ec69f5ed214"
   },
   "outputs": [
    {
     "data": {
      "image/png": "[encoded data removed]",
      "text/plain": [
       "<Figure size 432x288 with 1 Axes>"
      ]
     },
     "metadata": {
      "tags": []
     },
     "output_type": "display_data"
    }
   ],
   "source": [
    "plt.plot(all_rewards)\n",
    "plt.show()"
   ]
  }
 ],
 "metadata": {
  "colab": {
   "collapsed_sections": [],
   "machine_shape": "hm",
   "name": "Pong-v0.ipynb",
   "provenance": []
  },
  "kernelspec": {
   "display_name": "Python 3",
   "language": "python",
   "name": "python3"
  },
  "language_info": {
   "codemirror_mode": {
    "name": "ipython",
    "version": 3
   },
   "file_extension": ".py",
   "mimetype": "text/x-python",
   "name": "python",
   "nbconvert_exporter": "python",
   "pygments_lexer": "ipython3",
   "version": "3.6.8"
  }
 },
 "nbformat": 4,
 "nbformat_minor": 1
}
